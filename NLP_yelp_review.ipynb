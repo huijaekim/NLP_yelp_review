{
 "cells": [
  {
   "cell_type": "code",
   "execution_count": null,
   "metadata": {
    "collapsed": true
   },
   "outputs": [],
   "source": [
    "import pandas as pd\n",
    "from sklearn.feature_extraction.text import CountVectorizer, TfidfVectorizer\n",
    "import gensim\n",
    "import re\n",
    "import string\n",
    "import nltk\n",
    "from gensim import corpora, models, similarities, matutils\n",
    "from sklearn.metrics.pairwise import cosine_similarity"
   ]
  },
  {
   "cell_type": "markdown",
   "metadata": {},
   "source": [
    "# 1. Data"
   ]
  },
  {
   "cell_type": "code",
   "execution_count": 3,
   "metadata": {},
   "outputs": [
    {
     "data": {
      "text/html": [
       "<div>\n",
       "<style>\n",
       "    .dataframe thead tr:only-child th {\n",
       "        text-align: right;\n",
       "    }\n",
       "\n",
       "    .dataframe thead th {\n",
       "        text-align: left;\n",
       "    }\n",
       "\n",
       "    .dataframe tbody tr th {\n",
       "        vertical-align: top;\n",
       "    }\n",
       "</style>\n",
       "<table border=\"1\" class=\"dataframe\">\n",
       "  <thead>\n",
       "    <tr style=\"text-align: right;\">\n",
       "      <th></th>\n",
       "      <th>business_id</th>\n",
       "      <th>cool</th>\n",
       "      <th>funny</th>\n",
       "      <th>stars</th>\n",
       "      <th>useful</th>\n",
       "      <th>text_clean</th>\n",
       "      <th>text_noun</th>\n",
       "    </tr>\n",
       "  </thead>\n",
       "  <tbody>\n",
       "    <tr>\n",
       "      <th>0</th>\n",
       "      <td>--9e1ONYQuAa-CB_Rrw7Tw</td>\n",
       "      <td>0.631389</td>\n",
       "      <td>0.471562</td>\n",
       "      <td>4.087113</td>\n",
       "      <td>0.942405</td>\n",
       "      <td>what can i say wowzers probably one of the be...</td>\n",
       "      <td>wowzers steak houses service dinner seafood to...</td>\n",
       "    </tr>\n",
       "    <tr>\n",
       "      <th>1</th>\n",
       "      <td>0AQnRQw34IQW9-1gJkYnMA</td>\n",
       "      <td>0.307479</td>\n",
       "      <td>0.323176</td>\n",
       "      <td>2.943675</td>\n",
       "      <td>0.598338</td>\n",
       "      <td>me and my best friend stayed at the monte car...</td>\n",
       "      <td>friend monte carlo diablo s hotel didn feel ve...</td>\n",
       "    </tr>\n",
       "    <tr>\n",
       "      <th>2</th>\n",
       "      <td>0NmTwqYEQiKErDv4a55obg</td>\n",
       "      <td>0.801971</td>\n",
       "      <td>0.573477</td>\n",
       "      <td>4.120968</td>\n",
       "      <td>1.252688</td>\n",
       "      <td>stars goes to the truffled mushroom with pole...</td>\n",
       "      <td>stars mushroom stars basil spaghetti ambience ...</td>\n",
       "    </tr>\n",
       "    <tr>\n",
       "      <th>3</th>\n",
       "      <td>2weQS-RnoOBhb1KsHKyoSQ</td>\n",
       "      <td>0.767622</td>\n",
       "      <td>0.734573</td>\n",
       "      <td>3.637749</td>\n",
       "      <td>1.209140</td>\n",
       "      <td>over one hour wait for sunday brunch not a hu...</td>\n",
       "      <td>hour wait brunch selection breakfast items des...</td>\n",
       "    </tr>\n",
       "    <tr>\n",
       "      <th>4</th>\n",
       "      <td>4GXII-GU7S0ZyU6ElkhscQ</td>\n",
       "      <td>0.496835</td>\n",
       "      <td>0.787975</td>\n",
       "      <td>2.352848</td>\n",
       "      <td>1.131329</td>\n",
       "      <td>yeah this place is a friggin joke i live hear...</td>\n",
       "      <td>yeah place joke i hear pool sulfar pool deck f...</td>\n",
       "    </tr>\n",
       "  </tbody>\n",
       "</table>\n",
       "</div>"
      ],
      "text/plain": [
       "              business_id      cool     funny     stars    useful  \\\n",
       "0  --9e1ONYQuAa-CB_Rrw7Tw  0.631389  0.471562  4.087113  0.942405   \n",
       "1  0AQnRQw34IQW9-1gJkYnMA  0.307479  0.323176  2.943675  0.598338   \n",
       "2  0NmTwqYEQiKErDv4a55obg  0.801971  0.573477  4.120968  1.252688   \n",
       "3  2weQS-RnoOBhb1KsHKyoSQ  0.767622  0.734573  3.637749  1.209140   \n",
       "4  4GXII-GU7S0ZyU6ElkhscQ  0.496835  0.787975  2.352848  1.131329   \n",
       "\n",
       "                                          text_clean  \\\n",
       "0   what can i say wowzers probably one of the be...   \n",
       "1   me and my best friend stayed at the monte car...   \n",
       "2   stars goes to the truffled mushroom with pole...   \n",
       "3   over one hour wait for sunday brunch not a hu...   \n",
       "4   yeah this place is a friggin joke i live hear...   \n",
       "\n",
       "                                           text_noun  \n",
       "0  wowzers steak houses service dinner seafood to...  \n",
       "1  friend monte carlo diablo s hotel didn feel ve...  \n",
       "2  stars mushroom stars basil spaghetti ambience ...  \n",
       "3  hour wait brunch selection breakfast items des...  \n",
       "4  yeah place joke i hear pool sulfar pool deck f...  "
      ]
     },
     "execution_count": 3,
     "metadata": {},
     "output_type": "execute_result"
    }
   ],
   "source": [
    "df.head()"
   ]
  },
  {
   "cell_type": "markdown",
   "metadata": {},
   "source": [
    "# 2. Text preprocessing"
   ]
  },
  {
   "cell_type": "code",
   "execution_count": null,
   "metadata": {
    "collapsed": true
   },
   "outputs": [],
   "source": [
    "def preprocess(df):\n",
    "    alphabet = lambda x: re.sub(r\"\"\"[^a-z]+\"\"\", ' ', x)  # remove non-alphabets\n",
    "    punc_lower = lambda x: re.sub('[%s]' % re.escape(string.punctuation), ' ', x.lower()) # remove punctuation and lower the case\n",
    "    enter = lambda x: x.replace('\\n','')  # remove \\n\n",
    "\n",
    "    df['text_clean'] = df.text.map(punc_lower).map(enter).map(alphabet)\n",
    "\n",
    "    # Only keep nouns\n",
    "    noun=[]\n",
    "    for item in df.text_clean:     \n",
    "        tokens = nltk.word_tokenize(item)\n",
    "        tags = nltk.pos_tag(tokens)\n",
    "        nouns = [word for word,pos in tags if (pos == 'NN' or pos == 'NNP' or pos == 'NNS' or pos == 'NNPS')]\n",
    "        noun.append(nouns)\n",
    "\n",
    "    df['text_noun'] = noun\n",
    "    for i in range(len(df.text_noun)):     \n",
    "        df.text_noun[i] = ' '.join(df.text_noun[i])\n",
    "\n",
    "    # Remove some common nouns\n",
    "    mapping = { 'food':'', 'place':'', 'time':'', 'vegas':'', 'people':'','strip':'','service':'','night':''}\n",
    "\n",
    "    for i in range(len(df.text_noun)):\n",
    "        for k, v in mapping.items():\n",
    "            df.text_noun[i] = df.text_noun[i].replace(k, v)\n",
    "    return df\n",
    "\n",
    "df = preprocess(df)"
   ]
  },
  {
   "cell_type": "code",
   "execution_count": 9,
   "metadata": {},
   "outputs": [
    {
     "data": {
      "text/html": [
       "<div>\n",
       "<style>\n",
       "    .dataframe thead tr:only-child th {\n",
       "        text-align: right;\n",
       "    }\n",
       "\n",
       "    .dataframe thead th {\n",
       "        text-align: left;\n",
       "    }\n",
       "\n",
       "    .dataframe tbody tr th {\n",
       "        vertical-align: top;\n",
       "    }\n",
       "</style>\n",
       "<table border=\"1\" class=\"dataframe\">\n",
       "  <thead>\n",
       "    <tr style=\"text-align: right;\">\n",
       "      <th></th>\n",
       "      <th>business_id</th>\n",
       "      <th>cool</th>\n",
       "      <th>funny</th>\n",
       "      <th>stars</th>\n",
       "      <th>useful</th>\n",
       "      <th>text_clean</th>\n",
       "      <th>text_noun</th>\n",
       "    </tr>\n",
       "  </thead>\n",
       "  <tbody>\n",
       "    <tr>\n",
       "      <th>0</th>\n",
       "      <td>--9e1ONYQuAa-CB_Rrw7Tw</td>\n",
       "      <td>0.631389</td>\n",
       "      <td>0.471562</td>\n",
       "      <td>4.087113</td>\n",
       "      <td>0.942405</td>\n",
       "      <td>what can i say wowzers probably one of the be...</td>\n",
       "      <td>wowzers steak houses  dinner sea tower wedge w...</td>\n",
       "    </tr>\n",
       "    <tr>\n",
       "      <th>1</th>\n",
       "      <td>0AQnRQw34IQW9-1gJkYnMA</td>\n",
       "      <td>0.307479</td>\n",
       "      <td>0.323176</td>\n",
       "      <td>2.943675</td>\n",
       "      <td>0.598338</td>\n",
       "      <td>me and my best friend stayed at the monte car...</td>\n",
       "      <td>friend monte carlo diablo s hotel didn feel  d...</td>\n",
       "    </tr>\n",
       "    <tr>\n",
       "      <th>2</th>\n",
       "      <td>0NmTwqYEQiKErDv4a55obg</td>\n",
       "      <td>0.801971</td>\n",
       "      <td>0.573477</td>\n",
       "      <td>4.120968</td>\n",
       "      <td>1.252688</td>\n",
       "      <td>stars goes to the truffled mushroom with pole...</td>\n",
       "      <td>stars mushroom stars basil spaghetti ambience ...</td>\n",
       "    </tr>\n",
       "    <tr>\n",
       "      <th>3</th>\n",
       "      <td>2weQS-RnoOBhb1KsHKyoSQ</td>\n",
       "      <td>0.767622</td>\n",
       "      <td>0.734573</td>\n",
       "      <td>3.637749</td>\n",
       "      <td>1.209140</td>\n",
       "      <td>over one hour wait for sunday brunch not a hu...</td>\n",
       "      <td>hour wait brunch selection breakfast items des...</td>\n",
       "    </tr>\n",
       "    <tr>\n",
       "      <th>4</th>\n",
       "      <td>4GXII-GU7S0ZyU6ElkhscQ</td>\n",
       "      <td>0.496835</td>\n",
       "      <td>0.787975</td>\n",
       "      <td>2.352848</td>\n",
       "      <td>1.131329</td>\n",
       "      <td>yeah this place is a friggin joke i live hear...</td>\n",
       "      <td>yeah  joke i hear pool sulfar pool deck  items...</td>\n",
       "    </tr>\n",
       "  </tbody>\n",
       "</table>\n",
       "</div>"
      ],
      "text/plain": [
       "              business_id      cool     funny     stars    useful  \\\n",
       "0  --9e1ONYQuAa-CB_Rrw7Tw  0.631389  0.471562  4.087113  0.942405   \n",
       "1  0AQnRQw34IQW9-1gJkYnMA  0.307479  0.323176  2.943675  0.598338   \n",
       "2  0NmTwqYEQiKErDv4a55obg  0.801971  0.573477  4.120968  1.252688   \n",
       "3  2weQS-RnoOBhb1KsHKyoSQ  0.767622  0.734573  3.637749  1.209140   \n",
       "4  4GXII-GU7S0ZyU6ElkhscQ  0.496835  0.787975  2.352848  1.131329   \n",
       "\n",
       "                                          text_clean  \\\n",
       "0   what can i say wowzers probably one of the be...   \n",
       "1   me and my best friend stayed at the monte car...   \n",
       "2   stars goes to the truffled mushroom with pole...   \n",
       "3   over one hour wait for sunday brunch not a hu...   \n",
       "4   yeah this place is a friggin joke i live hear...   \n",
       "\n",
       "                                           text_noun  \n",
       "0  wowzers steak houses  dinner sea tower wedge w...  \n",
       "1  friend monte carlo diablo s hotel didn feel  d...  \n",
       "2  stars mushroom stars basil spaghetti ambience ...  \n",
       "3  hour wait brunch selection breakfast items des...  \n",
       "4  yeah  joke i hear pool sulfar pool deck  items...  "
      ]
     },
     "execution_count": 9,
     "metadata": {},
     "output_type": "execute_result"
    }
   ],
   "source": [
    "df.head()"
   ]
  },
  {
   "cell_type": "markdown",
   "metadata": {},
   "source": [
    "# 3. Word embedding"
   ]
  },
  {
   "cell_type": "markdown",
   "metadata": {},
   "source": [
    "## 3.1 CountVectorizer"
   ]
  },
  {
   "cell_type": "code",
   "execution_count": 2,
   "metadata": {},
   "outputs": [],
   "source": [
    "cv = CountVectorizer(stop_words='english')\n",
    "cv.fit(df.text_noun)\n",
    "X = cv.transform(df.text_noun).transpose()\n",
    "pd.DataFrame(X.toarray(), cv.get_feature_names()).head()"
   ]
  },
  {
   "cell_type": "markdown",
   "metadata": {},
   "source": [
    "## 3.2 TF-IDF"
   ]
  },
  {
   "cell_type": "code",
   "execution_count": 3,
   "metadata": {},
   "outputs": [],
   "source": [
    "tfidf = TfidfVectorizer(stop_words='english')\n",
    "tfidf.fit(df.text_noun)\n",
    "X2 = tfidf.transform(df.text_noun).transpose()\n",
    "pd.DataFrame(X2.toarray(), tfidf.get_feature_names()).head()"
   ]
  },
  {
   "cell_type": "markdown",
   "metadata": {},
   "source": [
    "# 4. Topic modeling"
   ]
  },
  {
   "cell_type": "code",
   "execution_count": null,
   "metadata": {
    "collapsed": true
   },
   "outputs": [],
   "source": [
    "def topic_search(data, model, num_topics, passes):\n",
    "    corpus = matutils.Sparse2Corpus(data)\n",
    "    id2word = dict((v, k) for k, v in model.vocabulary_.items())\n",
    "    lda = models.LdaModel(corpus=corpus, num_topics=num_topics, id2word=id2word, passes=passes)\n",
    "    lda_corpus = lda[corpus]  # Transform the docs from the word space to the topic space (like \"transform\" in sklearn)\n",
    "    lda_docs = [doc for doc in lda_corpus]\n",
    "    return lda.print_topics(), lda_docs"
   ]
  },
  {
   "cell_type": "code",
   "execution_count": 19,
   "metadata": {
    "collapsed": true
   },
   "outputs": [],
   "source": [
    "# Using CounterVectorizer\n",
    "topics, topic_vectors = topic_search(X, cv, 5, 5) "
   ]
  },
  {
   "cell_type": "code",
   "execution_count": 25,
   "metadata": {},
   "outputs": [
    {
     "data": {
      "text/plain": [
       "[(0,\n",
       "  '0.042*\"room\" + 0.036*\"hotel\" + 0.012*\"rooms\" + 0.011*\"casino\" + 0.009*\"pool\" + 0.007*\"day\" + 0.007*\"stay\" + 0.007*\"buffet\" + 0.007*\"view\" + 0.006*\"desk\"'),\n",
       " (1,\n",
       "  '0.029*\"burger\" + 0.015*\"fries\" + 0.012*\"club\" + 0.009*\"burgers\" + 0.009*\"line\" + 0.008*\"drinks\" + 0.007*\"restaurant\" + 0.007*\"bar\" + 0.007*\"order\" + 0.007*\"table\"'),\n",
       " (2,\n",
       "  '0.014*\"buffet\" + 0.011*\"restaurant\" + 0.010*\"dinner\" + 0.009*\"steak\" + 0.007*\"meal\" + 0.007*\"chicken\" + 0.007*\"menu\" + 0.007*\"table\" + 0.006*\"experience\" + 0.006*\"order\"'),\n",
       " (3,\n",
       "  '0.046*\"room\" + 0.028*\"hotel\" + 0.016*\"rooms\" + 0.011*\"casino\" + 0.010*\"pool\" + 0.008*\"floor\" + 0.007*\"day\" + 0.007*\"view\" + 0.007*\"bathroom\" + 0.007*\"staff\"'),\n",
       " (4,\n",
       "  '0.018*\"pizza\" + 0.013*\"chocolate\" + 0.011*\"cirque\" + 0.009*\"line\" + 0.007*\"stage\" + 0.006*\"seats\" + 0.006*\"buffet\" + 0.006*\"way\" + 0.006*\"shows\" + 0.005*\"music\"')]"
      ]
     },
     "execution_count": 25,
     "metadata": {},
     "output_type": "execute_result"
    }
   ],
   "source": [
    "topics"
   ]
  },
  {
   "cell_type": "code",
   "execution_count": null,
   "metadata": {
    "collapsed": true
   },
   "outputs": [],
   "source": [
    "# Using TF-IDF\n",
    "topics, topic_vectors = topic_search(X2, tfidf, 5, 5)"
   ]
  },
  {
   "cell_type": "markdown",
   "metadata": {},
   "source": [
    "# 5. Categorizing business based on topics"
   ]
  },
  {
   "cell_type": "code",
   "execution_count": 23,
   "metadata": {
    "collapsed": true
   },
   "outputs": [],
   "source": [
    "def matching(topic_vectors):\n",
    "    topic_number = []\n",
    "    for i in range(len(topic_vectors)):\n",
    "        a=[]\n",
    "        for j in range(len(topic_vectors[i])):\n",
    "            a.append(topic_vectors[i][j][1])\n",
    "        topic_number.append(topic_vectors[i][a.index(max(a))][0])\n",
    "    df_topics=pd.DataFrame(pd.DataFrame({'business_id': df.business_id, 'topic_number': topic_number}))\n",
    "\n",
    "    categories = [list(df_business.loc[df_business.business_id == item].categories) for item in df_topics.business_id]\n",
    "    df_topics['categories'] = categories\n",
    "    return df_topics\n",
    "\n",
    "df_topics = matching(topic_vectors)"
   ]
  },
  {
   "cell_type": "markdown",
   "metadata": {},
   "source": [
    "# 6. Matching business data to review data"
   ]
  },
  {
   "cell_type": "code",
   "execution_count": 102,
   "metadata": {
    "collapsed": true
   },
   "outputs": [],
   "source": [
    "def merge(df, df_business):\n",
    "    bn = [df_business.loc[df_business.business_id == df.business_id[i]].name.iloc[0] for i in range(len(df))]\n",
    "    bc = [df_business.loc[df_business.business_id == df.business_id[i]].categories.iloc[0] for i in range(len(df))]\n",
    "    ba = [df_business.loc[df_business.business_id == df.business_id[i]].address.iloc[0] for i in range(len(df))]\n",
    "    bla = [df_business.loc[df_business.business_id == df.business_id[i]].latitude.iloc[0] for i in range(len(df))]\n",
    "    blo = [df_business.loc[df_business.business_id == df.business_id[i]].longitude.iloc[0] for i in range(len(df))]\n",
    "\n",
    "    df['business_name'] = bn\n",
    "    df['business_categories'] = bc\n",
    "    df['address'] = ba\n",
    "    df['latitude'] = bla\n",
    "    df['longitude'] = blo\n",
    "    return df\n",
    "\n",
    "df = merge(df, df_business)"
   ]
  },
  {
   "cell_type": "markdown",
   "metadata": {
    "collapsed": true
   },
   "source": [
    "# 7. Recommendation system"
   ]
  },
  {
   "cell_type": "code",
   "execution_count": null,
   "metadata": {
    "collapsed": true
   },
   "outputs": [],
   "source": [
    "df_wide = pd.pivot_table(df, values=[\"stars\"], index=[\"business_name\", \"user_id\"], aggfunc=np.mean).unstack()\n",
    "df_wide = df_wide.fillna(0) # replace NaN with 0\n",
    "dists = cosine_similarity(df_wide)\n",
    "dists = pd.DataFrame(dists, columns=df_wide.index)\n",
    "dists.index = dists.columns"
   ]
  },
  {
   "cell_type": "code",
   "execution_count": null,
   "metadata": {
    "collapsed": true
   },
   "outputs": [],
   "source": [
    "# Recommend based on the similarity of inputs and outputs\n",
    "def get_similar(businesses, n=None):\n",
    "\n",
    "    businesses = [business for business in businesses if business in dists.columns]\n",
    "    busi_summed = dists[businesses].apply(lambda row: np.sum(row), axis=1).sort_values(ascending=False)\n",
    "    ranked_busi = busi_summed.index[busi_summed.index.isin(businesses)==False]\n",
    "    ranked_business = ranked_busi.tolist()\n",
    "    if n is None:\n",
    "        return ranked_business\n",
    "    else:\n",
    "        return ranked_business[:n]"
   ]
  },
  {
   "cell_type": "code",
   "execution_count": null,
   "metadata": {
    "collapsed": true
   },
   "outputs": [],
   "source": [
    "for i, business in enumerate(get_similar([\"Bacchanal Buffet\"], 10)):\n",
    "    print(\"%d) %s\" % (i+1, business))"
   ]
  }
 ],
 "metadata": {
  "kernelspec": {
   "display_name": "Python 3",
   "language": "python",
   "name": "python3"
  },
  "language_info": {
   "codemirror_mode": {
    "name": "ipython",
    "version": 3
   },
   "file_extension": ".py",
   "mimetype": "text/x-python",
   "name": "python",
   "nbconvert_exporter": "python",
   "pygments_lexer": "ipython3",
   "version": "3.6.1"
  },
  "toc": {
   "nav_menu": {},
   "number_sections": true,
   "sideBar": true,
   "skip_h1_title": false,
   "toc_cell": false,
   "toc_position": {},
   "toc_section_display": "block",
   "toc_window_display": false
  },
  "varInspector": {
   "cols": {
    "lenName": 16,
    "lenType": 16,
    "lenVar": 40
   },
   "kernels_config": {
    "python": {
     "delete_cmd_postfix": "",
     "delete_cmd_prefix": "del ",
     "library": "var_list.py",
     "varRefreshCmd": "print(var_dic_list())"
    },
    "r": {
     "delete_cmd_postfix": ") ",
     "delete_cmd_prefix": "rm(",
     "library": "var_list.r",
     "varRefreshCmd": "cat(var_dic_list()) "
    }
   },
   "types_to_exclude": [
    "module",
    "function",
    "builtin_function_or_method",
    "instance",
    "_Feature"
   ],
   "window_display": false
  }
 },
 "nbformat": 4,
 "nbformat_minor": 2
}
